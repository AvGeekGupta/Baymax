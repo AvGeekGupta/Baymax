{
  "nbformat": 4,
  "nbformat_minor": 0,
  "metadata": {
    "colab": {
      "name": "GenderDetection.ipynb",
      "provenance": [],
      "collapsed_sections": []
    },
    "kernelspec": {
      "name": "python3",
      "display_name": "Python 3"
    },
    "accelerator": "GPU"
  },
  "cells": [
    {
      "cell_type": "code",
      "metadata": {
        "id": "WnKzUywwS5is"
      },
      "source": [
        "from tensorflow.keras.preprocessing.image import ImageDataGenerator\r\n",
        "from tensorflow.keras.optimizers import Adam\r\n",
        "from tensorflow.keras.preprocessing.image import img_to_array\r\n",
        "from tensorflow.keras.utils import to_categorical, plot_model\r\n",
        "from tensorflow.keras.models import Sequential\r\n",
        "from tensorflow.keras.layers import BatchNormalization, Conv2D, MaxPooling2D, Activation, Flatten, Dropout, Dense\r\n",
        "from tensorflow.keras import backend as K\r\n",
        "from sklearn.model_selection import train_test_split\r\n",
        "import matplotlib.pyplot as plt\r\n",
        "import numpy as np\r\n",
        "import random\r\n",
        "import cv2\r\n",
        "import os\r\n",
        "import glob"
      ],
      "execution_count": null,
      "outputs": []
    },
    {
      "cell_type": "code",
      "metadata": {
        "id": "CwH1Y4ecTBpX"
      },
      "source": [
        "# initial parameters\r\n",
        "epochs = 100\r\n",
        "lr = 1e-3\r\n",
        "batch_size = 64\r\n",
        "img_dims = (96,96,3)\r\n",
        "\r\n",
        "data = []\r\n",
        "labels = []"
      ],
      "execution_count": null,
      "outputs": []
    },
    {
      "cell_type": "code",
      "metadata": {
        "id": "Lmj7VuIpTHDo"
      },
      "source": [
        "# load image files from the dataset\r\n",
        "image_files = [f for f in glob.glob(r'/content/drive/MyDrive/genderdetection/gender_dataset_face' + \"/**/*\", recursive=True) if not os.path.isdir(f)]\r\n",
        "random.shuffle(image_files)"
      ],
      "execution_count": null,
      "outputs": []
    },
    {
      "cell_type": "code",
      "metadata": {
        "id": "s6hpDljIexQL"
      },
      "source": [
        "# converting images to arrays and labelling the categories\r\n",
        "for img in image_files:\r\n",
        "\r\n",
        "    image = cv2.imread(img)\r\n",
        "    \r\n",
        "    image = cv2.resize(image, (img_dims[0],img_dims[1]))\r\n",
        "    image = img_to_array(image)\r\n",
        "    data.append(image)\r\n",
        "\r\n",
        "    label = img.split(os.path.sep)[-2] \r\n",
        "    if label == \"woman\":\r\n",
        "        label = 1\r\n",
        "    else:\r\n",
        "        label = 0\r\n",
        "        \r\n",
        "    labels.append([label]) # [[1], [0], [0], ...]"
      ],
      "execution_count": null,
      "outputs": []
    },
    {
      "cell_type": "code",
      "metadata": {
        "id": "kfRzcUzxfUys"
      },
      "source": [
        "# pre-processing\r\n",
        "data = np.array(data, dtype=\"float\") / 255.0\r\n",
        "labels = np.array(labels)"
      ],
      "execution_count": null,
      "outputs": []
    },
    {
      "cell_type": "code",
      "metadata": {
        "id": "GWR1m5KQk7FI"
      },
      "source": [
        "# split dataset for training and validation\r\n",
        "(trainX, testX, trainY, testY) = train_test_split(data, labels, test_size=0.2,\r\n",
        "                                                  random_state=42)\r\n",
        "\r\n",
        "trainY = to_categorical(trainY, num_classes=2) # [[1, 0], [0, 1], [0, 1], ...]\r\n",
        "testY = to_categorical(testY, num_classes=2)"
      ],
      "execution_count": null,
      "outputs": []
    },
    {
      "cell_type": "code",
      "metadata": {
        "id": "BMBM9VUPlBuO"
      },
      "source": [
        "# augmenting datset \r\n",
        "aug = ImageDataGenerator(rotation_range=25, width_shift_range=0.1,\r\n",
        "                         height_shift_range=0.1, shear_range=0.2, zoom_range=0.2,\r\n",
        "                         horizontal_flip=True, fill_mode=\"nearest\")"
      ],
      "execution_count": null,
      "outputs": []
    },
    {
      "cell_type": "code",
      "metadata": {
        "id": "pezHLyGdlFe-"
      },
      "source": [
        "# define model\r\n",
        "def build(width, height, depth, classes):\r\n",
        "    model = Sequential()\r\n",
        "    inputShape = (height, width, depth)\r\n",
        "    chanDim = -1\r\n",
        "\r\n",
        "    if K.image_data_format() == \"channels_first\": #Returns a string, either 'channels_first' or 'channels_last'\r\n",
        "        inputShape = (depth, height, width)\r\n",
        "        chanDim = 1\r\n",
        "    \r\n",
        "    # The axis that should be normalized, after a Conv2D layer with data_format=\"channels_first\", \r\n",
        "    # set axis=1 in BatchNormalization.\r\n",
        "\r\n",
        "    model.add(Conv2D(32, (3,3), padding=\"same\", input_shape=inputShape))\r\n",
        "    model.add(Activation(\"relu\"))\r\n",
        "    model.add(BatchNormalization(axis=chanDim))\r\n",
        "    model.add(MaxPooling2D(pool_size=(3,3)))\r\n",
        "    model.add(Dropout(0.25))\r\n",
        "\r\n",
        "    model.add(Conv2D(64, (3,3), padding=\"same\"))\r\n",
        "    model.add(Activation(\"relu\"))\r\n",
        "    model.add(BatchNormalization(axis=chanDim))\r\n",
        "\r\n",
        "    model.add(Conv2D(64, (3,3), padding=\"same\"))\r\n",
        "    model.add(Activation(\"relu\"))\r\n",
        "    model.add(BatchNormalization(axis=chanDim))\r\n",
        "    model.add(MaxPooling2D(pool_size=(2,2)))\r\n",
        "    model.add(Dropout(0.25))\r\n",
        "\r\n",
        "    model.add(Conv2D(128, (3,3), padding=\"same\"))\r\n",
        "    model.add(Activation(\"relu\"))\r\n",
        "    model.add(BatchNormalization(axis=chanDim))\r\n",
        "\r\n",
        "    model.add(Conv2D(128, (3,3), padding=\"same\"))\r\n",
        "    model.add(Activation(\"relu\"))\r\n",
        "    model.add(BatchNormalization(axis=chanDim))\r\n",
        "    model.add(MaxPooling2D(pool_size=(2,2)))\r\n",
        "    model.add(Dropout(0.25))\r\n",
        "\r\n",
        "    model.add(Flatten())\r\n",
        "    model.add(Dense(1024))\r\n",
        "    model.add(Activation(\"relu\"))\r\n",
        "    model.add(BatchNormalization())\r\n",
        "    model.add(Dropout(0.5))\r\n",
        "\r\n",
        "    model.add(Dense(classes))\r\n",
        "    model.add(Activation(\"sigmoid\"))\r\n",
        "\r\n",
        "    return model"
      ],
      "execution_count": null,
      "outputs": []
    },
    {
      "cell_type": "code",
      "metadata": {
        "id": "Rlk3tzLulK9D"
      },
      "source": [
        "# build model\r\n",
        "model = build(width=img_dims[0], height=img_dims[1], depth=img_dims[2],\r\n",
        "                            classes=2)"
      ],
      "execution_count": null,
      "outputs": []
    },
    {
      "cell_type": "code",
      "metadata": {
        "id": "fTDRXD4WlN5l"
      },
      "source": [
        "# compile the model\r\n",
        "opt = Adam(lr=lr, decay=lr/epochs)\r\n",
        "model.compile(loss=\"binary_crossentropy\", optimizer=opt, metrics=[\"accuracy\"])\r\n"
      ],
      "execution_count": null,
      "outputs": []
    },
    {
      "cell_type": "code",
      "metadata": {
        "colab": {
          "base_uri": "https://localhost:8080/"
        },
        "id": "9b3Y2HQIlSpi",
        "outputId": "c2641408-52ed-42e6-9aa7-d6b187527cf1"
      },
      "source": [
        "# train the model\r\n",
        "H = model.fit_generator(aug.flow(trainX, trainY, batch_size=batch_size),\r\n",
        "                        validation_data=(testX,testY),\r\n",
        "                        steps_per_epoch=len(trainX) // batch_size,\r\n",
        "                        epochs=epochs, verbose=1)\r\n"
      ],
      "execution_count": null,
      "outputs": [
        {
          "output_type": "stream",
          "text": [
            "/usr/local/lib/python3.6/dist-packages/tensorflow/python/keras/engine/training.py:1844: UserWarning: `Model.fit_generator` is deprecated and will be removed in a future version. Please use `Model.fit`, which supports generators.\n",
            "  warnings.warn('`Model.fit_generator` is deprecated and '\n"
          ],
          "name": "stderr"
        },
        {
          "output_type": "stream",
          "text": [
            "Epoch 1/100\n",
            "43/43 [==============================] - 14s 148ms/step - loss: 0.8149 - accuracy: 0.6917 - val_loss: 0.7143 - val_accuracy: 0.5345\n",
            "Epoch 2/100\n",
            "43/43 [==============================] - 6s 143ms/step - loss: 0.4251 - accuracy: 0.8408 - val_loss: 1.3592 - val_accuracy: 0.5072\n",
            "Epoch 3/100\n",
            "43/43 [==============================] - 6s 141ms/step - loss: 0.3651 - accuracy: 0.8590 - val_loss: 1.6766 - val_accuracy: 0.5072\n",
            "Epoch 4/100\n",
            "43/43 [==============================] - 6s 142ms/step - loss: 0.2954 - accuracy: 0.8847 - val_loss: 1.7893 - val_accuracy: 0.5072\n",
            "Epoch 5/100\n",
            "43/43 [==============================] - 6s 142ms/step - loss: 0.2779 - accuracy: 0.8969 - val_loss: 2.2456 - val_accuracy: 0.5072\n",
            "Epoch 6/100\n",
            "43/43 [==============================] - 6s 144ms/step - loss: 0.3155 - accuracy: 0.8818 - val_loss: 1.4570 - val_accuracy: 0.5101\n",
            "Epoch 7/100\n",
            "43/43 [==============================] - 6s 142ms/step - loss: 0.2424 - accuracy: 0.9119 - val_loss: 2.0995 - val_accuracy: 0.5144\n",
            "Epoch 8/100\n",
            "43/43 [==============================] - 6s 141ms/step - loss: 0.2698 - accuracy: 0.9033 - val_loss: 1.9509 - val_accuracy: 0.5201\n",
            "Epoch 9/100\n",
            "43/43 [==============================] - 6s 140ms/step - loss: 0.1591 - accuracy: 0.9448 - val_loss: 0.5983 - val_accuracy: 0.7572\n",
            "Epoch 10/100\n",
            "43/43 [==============================] - 6s 140ms/step - loss: 0.1815 - accuracy: 0.9356 - val_loss: 0.2654 - val_accuracy: 0.9066\n",
            "Epoch 11/100\n",
            "43/43 [==============================] - 6s 140ms/step - loss: 0.1517 - accuracy: 0.9395 - val_loss: 0.2105 - val_accuracy: 0.9167\n",
            "Epoch 12/100\n",
            "43/43 [==============================] - 6s 141ms/step - loss: 0.1414 - accuracy: 0.9496 - val_loss: 0.0910 - val_accuracy: 0.9612\n",
            "Epoch 13/100\n",
            "43/43 [==============================] - 6s 141ms/step - loss: 0.1283 - accuracy: 0.9539 - val_loss: 0.3178 - val_accuracy: 0.8807\n",
            "Epoch 14/100\n",
            "43/43 [==============================] - 6s 141ms/step - loss: 0.1428 - accuracy: 0.9449 - val_loss: 0.3177 - val_accuracy: 0.8937\n",
            "Epoch 15/100\n",
            "43/43 [==============================] - 6s 140ms/step - loss: 0.1285 - accuracy: 0.9505 - val_loss: 0.0995 - val_accuracy: 0.9598\n",
            "Epoch 16/100\n",
            "43/43 [==============================] - 6s 144ms/step - loss: 0.0944 - accuracy: 0.9638 - val_loss: 0.2351 - val_accuracy: 0.9253\n",
            "Epoch 17/100\n",
            "43/43 [==============================] - 6s 140ms/step - loss: 0.0953 - accuracy: 0.9608 - val_loss: 0.2233 - val_accuracy: 0.9253\n",
            "Epoch 18/100\n",
            "43/43 [==============================] - 6s 140ms/step - loss: 0.1205 - accuracy: 0.9596 - val_loss: 0.1844 - val_accuracy: 0.9310\n",
            "Epoch 19/100\n",
            "43/43 [==============================] - 6s 142ms/step - loss: 0.1192 - accuracy: 0.9573 - val_loss: 0.0940 - val_accuracy: 0.9583\n",
            "Epoch 20/100\n",
            "43/43 [==============================] - 6s 140ms/step - loss: 0.0972 - accuracy: 0.9608 - val_loss: 0.1891 - val_accuracy: 0.9454\n",
            "Epoch 21/100\n",
            "43/43 [==============================] - 6s 140ms/step - loss: 0.0961 - accuracy: 0.9572 - val_loss: 1.2762 - val_accuracy: 0.6868\n",
            "Epoch 22/100\n",
            "43/43 [==============================] - 6s 140ms/step - loss: 0.1030 - accuracy: 0.9647 - val_loss: 0.0955 - val_accuracy: 0.9641\n",
            "Epoch 23/100\n",
            "43/43 [==============================] - 6s 140ms/step - loss: 0.0789 - accuracy: 0.9726 - val_loss: 0.1846 - val_accuracy: 0.9483\n",
            "Epoch 24/100\n",
            "43/43 [==============================] - 6s 141ms/step - loss: 0.0888 - accuracy: 0.9643 - val_loss: 0.1620 - val_accuracy: 0.9483\n",
            "Epoch 25/100\n",
            "43/43 [==============================] - 6s 140ms/step - loss: 0.0674 - accuracy: 0.9757 - val_loss: 0.1648 - val_accuracy: 0.9468\n",
            "Epoch 26/100\n",
            "43/43 [==============================] - 6s 139ms/step - loss: 0.0816 - accuracy: 0.9727 - val_loss: 0.0979 - val_accuracy: 0.9598\n",
            "Epoch 27/100\n",
            "43/43 [==============================] - 6s 140ms/step - loss: 0.0802 - accuracy: 0.9684 - val_loss: 0.0691 - val_accuracy: 0.9727\n",
            "Epoch 28/100\n",
            "43/43 [==============================] - 6s 139ms/step - loss: 0.0828 - accuracy: 0.9701 - val_loss: 0.1205 - val_accuracy: 0.9526\n",
            "Epoch 29/100\n",
            "43/43 [==============================] - 6s 142ms/step - loss: 0.0542 - accuracy: 0.9776 - val_loss: 0.0719 - val_accuracy: 0.9670\n",
            "Epoch 30/100\n",
            "43/43 [==============================] - 6s 141ms/step - loss: 0.0602 - accuracy: 0.9751 - val_loss: 0.2116 - val_accuracy: 0.9310\n",
            "Epoch 31/100\n",
            "43/43 [==============================] - 6s 143ms/step - loss: 0.0702 - accuracy: 0.9784 - val_loss: 0.0719 - val_accuracy: 0.9813\n",
            "Epoch 32/100\n",
            "43/43 [==============================] - 6s 142ms/step - loss: 0.0507 - accuracy: 0.9826 - val_loss: 0.0697 - val_accuracy: 0.9770\n",
            "Epoch 33/100\n",
            "43/43 [==============================] - 6s 141ms/step - loss: 0.0564 - accuracy: 0.9808 - val_loss: 0.0485 - val_accuracy: 0.9770\n",
            "Epoch 34/100\n",
            "43/43 [==============================] - 6s 140ms/step - loss: 0.0715 - accuracy: 0.9729 - val_loss: 0.0873 - val_accuracy: 0.9670\n",
            "Epoch 35/100\n",
            "43/43 [==============================] - 6s 140ms/step - loss: 0.0619 - accuracy: 0.9792 - val_loss: 0.4582 - val_accuracy: 0.8851\n",
            "Epoch 36/100\n",
            "43/43 [==============================] - 6s 140ms/step - loss: 0.0658 - accuracy: 0.9749 - val_loss: 0.1423 - val_accuracy: 0.9598\n",
            "Epoch 37/100\n",
            "43/43 [==============================] - 6s 140ms/step - loss: 0.0864 - accuracy: 0.9663 - val_loss: 0.0472 - val_accuracy: 0.9799\n",
            "Epoch 38/100\n",
            "43/43 [==============================] - 6s 141ms/step - loss: 0.0590 - accuracy: 0.9813 - val_loss: 0.0519 - val_accuracy: 0.9813\n",
            "Epoch 39/100\n",
            "43/43 [==============================] - 6s 140ms/step - loss: 0.0578 - accuracy: 0.9800 - val_loss: 0.2090 - val_accuracy: 0.9382\n",
            "Epoch 40/100\n",
            "43/43 [==============================] - 6s 140ms/step - loss: 0.0471 - accuracy: 0.9840 - val_loss: 0.0685 - val_accuracy: 0.9727\n",
            "Epoch 41/100\n",
            "43/43 [==============================] - 6s 141ms/step - loss: 0.0438 - accuracy: 0.9827 - val_loss: 0.0552 - val_accuracy: 0.9828\n",
            "Epoch 42/100\n",
            "43/43 [==============================] - 6s 141ms/step - loss: 0.0515 - accuracy: 0.9825 - val_loss: 0.0842 - val_accuracy: 0.9598\n",
            "Epoch 43/100\n",
            "43/43 [==============================] - 6s 142ms/step - loss: 0.0404 - accuracy: 0.9853 - val_loss: 0.0844 - val_accuracy: 0.9770\n",
            "Epoch 44/100\n",
            "43/43 [==============================] - 6s 141ms/step - loss: 0.0409 - accuracy: 0.9875 - val_loss: 0.1850 - val_accuracy: 0.9368\n",
            "Epoch 45/100\n",
            "43/43 [==============================] - 6s 143ms/step - loss: 0.0359 - accuracy: 0.9889 - val_loss: 0.0819 - val_accuracy: 0.9741\n",
            "Epoch 46/100\n",
            "43/43 [==============================] - 6s 143ms/step - loss: 0.0758 - accuracy: 0.9721 - val_loss: 0.3617 - val_accuracy: 0.8836\n",
            "Epoch 47/100\n",
            "43/43 [==============================] - 6s 141ms/step - loss: 0.0679 - accuracy: 0.9743 - val_loss: 0.0601 - val_accuracy: 0.9813\n",
            "Epoch 48/100\n",
            "43/43 [==============================] - 6s 144ms/step - loss: 0.0475 - accuracy: 0.9816 - val_loss: 0.1614 - val_accuracy: 0.9511\n",
            "Epoch 49/100\n",
            "43/43 [==============================] - 6s 143ms/step - loss: 0.0561 - accuracy: 0.9782 - val_loss: 0.0684 - val_accuracy: 0.9770\n",
            "Epoch 50/100\n",
            "43/43 [==============================] - 6s 141ms/step - loss: 0.0399 - accuracy: 0.9837 - val_loss: 1.1786 - val_accuracy: 0.7328\n",
            "Epoch 51/100\n",
            "43/43 [==============================] - 6s 141ms/step - loss: 0.0674 - accuracy: 0.9729 - val_loss: 0.0493 - val_accuracy: 0.9828\n",
            "Epoch 52/100\n",
            "43/43 [==============================] - 6s 141ms/step - loss: 0.0486 - accuracy: 0.9810 - val_loss: 0.0513 - val_accuracy: 0.9828\n",
            "Epoch 53/100\n",
            "43/43 [==============================] - 6s 141ms/step - loss: 0.0374 - accuracy: 0.9835 - val_loss: 0.0789 - val_accuracy: 0.9698\n",
            "Epoch 54/100\n",
            "43/43 [==============================] - 6s 141ms/step - loss: 0.0410 - accuracy: 0.9822 - val_loss: 0.0542 - val_accuracy: 0.9784\n",
            "Epoch 55/100\n",
            "43/43 [==============================] - 6s 142ms/step - loss: 0.0432 - accuracy: 0.9864 - val_loss: 0.1017 - val_accuracy: 0.9727\n",
            "Epoch 56/100\n",
            "43/43 [==============================] - 6s 140ms/step - loss: 0.0402 - accuracy: 0.9861 - val_loss: 0.1373 - val_accuracy: 0.9569\n",
            "Epoch 57/100\n",
            "43/43 [==============================] - 6s 141ms/step - loss: 0.0401 - accuracy: 0.9814 - val_loss: 0.0465 - val_accuracy: 0.9828\n",
            "Epoch 58/100\n",
            "43/43 [==============================] - 6s 143ms/step - loss: 0.0421 - accuracy: 0.9827 - val_loss: 0.3371 - val_accuracy: 0.9066\n",
            "Epoch 59/100\n",
            "43/43 [==============================] - 6s 141ms/step - loss: 0.0465 - accuracy: 0.9828 - val_loss: 0.0937 - val_accuracy: 0.9641\n",
            "Epoch 60/100\n",
            "43/43 [==============================] - 6s 140ms/step - loss: 0.0357 - accuracy: 0.9878 - val_loss: 1.1698 - val_accuracy: 0.7471\n",
            "Epoch 61/100\n",
            "43/43 [==============================] - 6s 138ms/step - loss: 0.0403 - accuracy: 0.9823 - val_loss: 0.0555 - val_accuracy: 0.9871\n",
            "Epoch 62/100\n",
            "43/43 [==============================] - 6s 141ms/step - loss: 0.0322 - accuracy: 0.9919 - val_loss: 0.0484 - val_accuracy: 0.9856\n",
            "Epoch 63/100\n",
            "43/43 [==============================] - 6s 140ms/step - loss: 0.0313 - accuracy: 0.9889 - val_loss: 0.0516 - val_accuracy: 0.9842\n",
            "Epoch 64/100\n",
            "43/43 [==============================] - 6s 140ms/step - loss: 0.0600 - accuracy: 0.9763 - val_loss: 0.0809 - val_accuracy: 0.9655\n",
            "Epoch 65/100\n",
            "43/43 [==============================] - 6s 144ms/step - loss: 0.0395 - accuracy: 0.9848 - val_loss: 0.2380 - val_accuracy: 0.9195\n",
            "Epoch 66/100\n",
            "43/43 [==============================] - 6s 142ms/step - loss: 0.0357 - accuracy: 0.9870 - val_loss: 0.1215 - val_accuracy: 0.9655\n",
            "Epoch 67/100\n",
            "43/43 [==============================] - 6s 145ms/step - loss: 0.0309 - accuracy: 0.9889 - val_loss: 0.1762 - val_accuracy: 0.9368\n",
            "Epoch 68/100\n",
            "43/43 [==============================] - 6s 141ms/step - loss: 0.0408 - accuracy: 0.9847 - val_loss: 0.1474 - val_accuracy: 0.9526\n",
            "Epoch 69/100\n",
            "43/43 [==============================] - 6s 148ms/step - loss: 0.0453 - accuracy: 0.9843 - val_loss: 0.2950 - val_accuracy: 0.8994\n",
            "Epoch 70/100\n",
            "43/43 [==============================] - 6s 149ms/step - loss: 0.0637 - accuracy: 0.9824 - val_loss: 0.0743 - val_accuracy: 0.9741\n",
            "Epoch 71/100\n",
            "43/43 [==============================] - 6s 143ms/step - loss: 0.0321 - accuracy: 0.9892 - val_loss: 0.1195 - val_accuracy: 0.9583\n",
            "Epoch 72/100\n",
            "43/43 [==============================] - 6s 147ms/step - loss: 0.0360 - accuracy: 0.9876 - val_loss: 0.0418 - val_accuracy: 0.9799\n",
            "Epoch 73/100\n",
            "43/43 [==============================] - 6s 144ms/step - loss: 0.0462 - accuracy: 0.9824 - val_loss: 0.5193 - val_accuracy: 0.8606\n",
            "Epoch 74/100\n",
            "43/43 [==============================] - 6s 145ms/step - loss: 0.0753 - accuracy: 0.9770 - val_loss: 0.1211 - val_accuracy: 0.9540\n",
            "Epoch 75/100\n",
            "43/43 [==============================] - 6s 144ms/step - loss: 0.0482 - accuracy: 0.9846 - val_loss: 0.2176 - val_accuracy: 0.9353\n",
            "Epoch 76/100\n",
            "43/43 [==============================] - 6s 142ms/step - loss: 0.0461 - accuracy: 0.9846 - val_loss: 0.0450 - val_accuracy: 0.9828\n",
            "Epoch 77/100\n",
            "43/43 [==============================] - 6s 141ms/step - loss: 0.0471 - accuracy: 0.9834 - val_loss: 0.3800 - val_accuracy: 0.8779\n",
            "Epoch 78/100\n",
            "43/43 [==============================] - 6s 141ms/step - loss: 0.0456 - accuracy: 0.9842 - val_loss: 0.2633 - val_accuracy: 0.9181\n",
            "Epoch 79/100\n",
            "43/43 [==============================] - 6s 145ms/step - loss: 0.0454 - accuracy: 0.9824 - val_loss: 0.0859 - val_accuracy: 0.9727\n",
            "Epoch 80/100\n",
            "43/43 [==============================] - 6s 142ms/step - loss: 0.0452 - accuracy: 0.9830 - val_loss: 0.3319 - val_accuracy: 0.8908\n",
            "Epoch 81/100\n",
            "43/43 [==============================] - 6s 142ms/step - loss: 0.0402 - accuracy: 0.9834 - val_loss: 0.2671 - val_accuracy: 0.9210\n",
            "Epoch 82/100\n",
            "43/43 [==============================] - 6s 141ms/step - loss: 0.0217 - accuracy: 0.9911 - val_loss: 0.1629 - val_accuracy: 0.9569\n",
            "Epoch 83/100\n",
            "43/43 [==============================] - 6s 142ms/step - loss: 0.0310 - accuracy: 0.9879 - val_loss: 0.1292 - val_accuracy: 0.9641\n",
            "Epoch 84/100\n",
            "43/43 [==============================] - 6s 145ms/step - loss: 0.0232 - accuracy: 0.9921 - val_loss: 0.0509 - val_accuracy: 0.9813\n",
            "Epoch 85/100\n",
            "43/43 [==============================] - 6s 144ms/step - loss: 0.0182 - accuracy: 0.9927 - val_loss: 0.0784 - val_accuracy: 0.9756\n",
            "Epoch 86/100\n",
            "43/43 [==============================] - 6s 143ms/step - loss: 0.0256 - accuracy: 0.9934 - val_loss: 0.0647 - val_accuracy: 0.9842\n",
            "Epoch 87/100\n",
            "43/43 [==============================] - 6s 142ms/step - loss: 0.0199 - accuracy: 0.9933 - val_loss: 0.0431 - val_accuracy: 0.9756\n",
            "Epoch 88/100\n",
            "43/43 [==============================] - 6s 141ms/step - loss: 0.0344 - accuracy: 0.9886 - val_loss: 0.0595 - val_accuracy: 0.9842\n",
            "Epoch 89/100\n",
            "43/43 [==============================] - 6s 143ms/step - loss: 0.0430 - accuracy: 0.9875 - val_loss: 0.0750 - val_accuracy: 0.9784\n",
            "Epoch 90/100\n",
            "43/43 [==============================] - 6s 142ms/step - loss: 0.0313 - accuracy: 0.9867 - val_loss: 0.1096 - val_accuracy: 0.9583\n",
            "Epoch 91/100\n",
            "43/43 [==============================] - 6s 142ms/step - loss: 0.0206 - accuracy: 0.9936 - val_loss: 0.7481 - val_accuracy: 0.8003\n",
            "Epoch 92/100\n",
            "43/43 [==============================] - 6s 143ms/step - loss: 0.0193 - accuracy: 0.9898 - val_loss: 0.4663 - val_accuracy: 0.8635\n",
            "Epoch 93/100\n",
            "43/43 [==============================] - 6s 142ms/step - loss: 0.0375 - accuracy: 0.9869 - val_loss: 0.2526 - val_accuracy: 0.9253\n",
            "Epoch 94/100\n",
            "43/43 [==============================] - 6s 142ms/step - loss: 0.0248 - accuracy: 0.9912 - val_loss: 0.0434 - val_accuracy: 0.9856\n",
            "Epoch 95/100\n",
            "43/43 [==============================] - 6s 144ms/step - loss: 0.0403 - accuracy: 0.9868 - val_loss: 0.0332 - val_accuracy: 0.9871\n",
            "Epoch 96/100\n",
            "43/43 [==============================] - 6s 143ms/step - loss: 0.0327 - accuracy: 0.9896 - val_loss: 0.0979 - val_accuracy: 0.9641\n",
            "Epoch 97/100\n",
            "43/43 [==============================] - 6s 144ms/step - loss: 0.0200 - accuracy: 0.9940 - val_loss: 0.1734 - val_accuracy: 0.9497\n",
            "Epoch 98/100\n",
            "43/43 [==============================] - 6s 143ms/step - loss: 0.0309 - accuracy: 0.9857 - val_loss: 0.1024 - val_accuracy: 0.9670\n",
            "Epoch 99/100\n",
            "43/43 [==============================] - 6s 140ms/step - loss: 0.0199 - accuracy: 0.9924 - val_loss: 0.0896 - val_accuracy: 0.9770\n",
            "Epoch 100/100\n",
            "43/43 [==============================] - 6s 141ms/step - loss: 0.0372 - accuracy: 0.9883 - val_loss: 0.0355 - val_accuracy: 0.9871\n"
          ],
          "name": "stdout"
        }
      ]
    },
    {
      "cell_type": "code",
      "metadata": {
        "colab": {
          "base_uri": "https://localhost:8080/"
        },
        "id": "OorDx2JNlWxX",
        "outputId": "c48e8d2e-f0de-44f6-ea30-a70f61b30e76"
      },
      "source": [
        "# save the model to disk\r\n",
        "model.save('gender_detection.model')\r\n"
      ],
      "execution_count": null,
      "outputs": [
        {
          "output_type": "stream",
          "text": [
            "INFO:tensorflow:Assets written to: gender_detection.model/assets\n"
          ],
          "name": "stdout"
        }
      ]
    },
    {
      "cell_type": "code",
      "metadata": {
        "colab": {
          "base_uri": "https://localhost:8080/",
          "height": 316
        },
        "id": "fXfGJQtYoaRb",
        "outputId": "a2f7cc49-db43-4ee7-91b0-0cc5af93f7db"
      },
      "source": [
        "# plot training/validation loss/accuracy\r\n",
        "plt.style.use(\"ggplot\")\r\n",
        "plt.figure()\r\n",
        "N = epochs\r\n",
        "plt.plot(np.arange(0,N), H.history[\"loss\"], label=\"train_loss\")\r\n",
        "plt.plot(np.arange(0,N), H.history[\"val_loss\"], label=\"val_loss\")\r\n",
        "plt.plot(np.arange(0,N), H.history[\"accuracy\"], label=\"train_acc\")\r\n",
        "plt.plot(np.arange(0,N), H.history[\"val_accuracy\"], label=\"val_acc\")\r\n",
        "\r\n",
        "plt.title(\"Training Loss and Accuracy\")\r\n",
        "plt.xlabel(\"Epoch #\")\r\n",
        "plt.ylabel(\"Loss/Accuracy\")\r\n",
        "plt.legend(loc=\"upper right\")\r\n"
      ],
      "execution_count": null,
      "outputs": [
        {
          "output_type": "execute_result",
          "data": {
            "text/plain": [
              "<matplotlib.legend.Legend at 0x7f09659a5ac8>"
            ]
          },
          "metadata": {
            "tags": []
          },
          "execution_count": 17
        },
        {
          "output_type": "display_data",
          "data": {
            "image/png": "[encoded data removed]",
            "text/plain": [
              "<Figure size 432x288 with 1 Axes>"
            ]
          },
          "metadata": {
            "tags": []
          }
        }
      ]
    },
    {
      "cell_type": "code",
      "metadata": {
        "colab": {
          "base_uri": "https://localhost:8080/",
          "height": 34
        },
        "id": "cFQnU-DGof72",
        "outputId": "7cefa157-3548-4473-b154-573fd2f52c2e"
      },
      "source": [
        "# save plot to disk\r\n",
        "plt.savefig('plot.png')"
      ],
      "execution_count": null,
      "outputs": [
        {
          "output_type": "display_data",
          "data": {
            "text/plain": [
              "<Figure size 432x288 with 0 Axes>"
            ]
          },
          "metadata": {
            "tags": []
          }
        }
      ]
    },
    {
      "cell_type": "code",
      "metadata": {
        "id": "nwS-RaQ8ozYC"
      },
      "source": [
        ""
      ],
      "execution_count": null,
      "outputs": []
    }
  ]
}